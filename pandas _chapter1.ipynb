{
 "cells": [
  {
   "cell_type": "code",
   "execution_count": 3,
   "id": "dec5246a",
   "metadata": {},
   "outputs": [],
   "source": [
    "import pandas as pd"
   ]
  },
  {
   "cell_type": "code",
   "execution_count": 4,
   "id": "00b27af5",
   "metadata": {},
   "outputs": [],
   "source": [
    "file_path = 'D:\\\\top-5000-youtube-channels-data-from-socialblade.csv'\n",
    "ytube = pd.read_csv(file_path)"
   ]
  },
  {
   "cell_type": "code",
   "execution_count": 5,
   "id": "289e5537",
   "metadata": {},
   "outputs": [
    {
     "data": {
      "text/html": [
       "<div>\n",
       "<style scoped>\n",
       "    .dataframe tbody tr th:only-of-type {\n",
       "        vertical-align: middle;\n",
       "    }\n",
       "\n",
       "    .dataframe tbody tr th {\n",
       "        vertical-align: top;\n",
       "    }\n",
       "\n",
       "    .dataframe thead th {\n",
       "        text-align: right;\n",
       "    }\n",
       "</style>\n",
       "<table border=\"1\" class=\"dataframe\">\n",
       "  <thead>\n",
       "    <tr style=\"text-align: right;\">\n",
       "      <th></th>\n",
       "      <th>Rank</th>\n",
       "      <th>Grade</th>\n",
       "      <th>Channel name</th>\n",
       "      <th>Video Uploads</th>\n",
       "      <th>Subscribers</th>\n",
       "      <th>Video views</th>\n",
       "    </tr>\n",
       "  </thead>\n",
       "  <tbody>\n",
       "    <tr>\n",
       "      <th>0</th>\n",
       "      <td>1st</td>\n",
       "      <td>A++</td>\n",
       "      <td>Zee TV</td>\n",
       "      <td>82757</td>\n",
       "      <td>18752951</td>\n",
       "      <td>20869786591</td>\n",
       "    </tr>\n",
       "    <tr>\n",
       "      <th>1</th>\n",
       "      <td>2nd</td>\n",
       "      <td>A++</td>\n",
       "      <td>T-Series</td>\n",
       "      <td>12661</td>\n",
       "      <td>61196302</td>\n",
       "      <td>47548839843</td>\n",
       "    </tr>\n",
       "    <tr>\n",
       "      <th>2</th>\n",
       "      <td>3rd</td>\n",
       "      <td>A++</td>\n",
       "      <td>Cocomelon - Nursery Rhymes</td>\n",
       "      <td>373</td>\n",
       "      <td>19238251</td>\n",
       "      <td>9793305082</td>\n",
       "    </tr>\n",
       "    <tr>\n",
       "      <th>3</th>\n",
       "      <td>4th</td>\n",
       "      <td>A++</td>\n",
       "      <td>SET India</td>\n",
       "      <td>27323</td>\n",
       "      <td>31180559</td>\n",
       "      <td>22675948293</td>\n",
       "    </tr>\n",
       "    <tr>\n",
       "      <th>4</th>\n",
       "      <td>5th</td>\n",
       "      <td>A++</td>\n",
       "      <td>WWE</td>\n",
       "      <td>36756</td>\n",
       "      <td>32852346</td>\n",
       "      <td>26273668433</td>\n",
       "    </tr>\n",
       "    <tr>\n",
       "      <th>...</th>\n",
       "      <td>...</td>\n",
       "      <td>...</td>\n",
       "      <td>...</td>\n",
       "      <td>...</td>\n",
       "      <td>...</td>\n",
       "      <td>...</td>\n",
       "    </tr>\n",
       "    <tr>\n",
       "      <th>4995</th>\n",
       "      <td>4,996th</td>\n",
       "      <td>B+</td>\n",
       "      <td>Uras Benlioğlu</td>\n",
       "      <td>706</td>\n",
       "      <td>2072942</td>\n",
       "      <td>441202795</td>\n",
       "    </tr>\n",
       "    <tr>\n",
       "      <th>4996</th>\n",
       "      <td>4,997th</td>\n",
       "      <td>B+</td>\n",
       "      <td>HI-TECH MUSIC LTD</td>\n",
       "      <td>797</td>\n",
       "      <td>1055091</td>\n",
       "      <td>377331722</td>\n",
       "    </tr>\n",
       "    <tr>\n",
       "      <th>4997</th>\n",
       "      <td>4,998th</td>\n",
       "      <td>B+</td>\n",
       "      <td>Mastersaint</td>\n",
       "      <td>110</td>\n",
       "      <td>3265735</td>\n",
       "      <td>311758426</td>\n",
       "    </tr>\n",
       "    <tr>\n",
       "      <th>4998</th>\n",
       "      <td>4,999th</td>\n",
       "      <td>B+</td>\n",
       "      <td>Bruce McIntosh</td>\n",
       "      <td>3475</td>\n",
       "      <td>32990</td>\n",
       "      <td>14563764</td>\n",
       "    </tr>\n",
       "    <tr>\n",
       "      <th>4999</th>\n",
       "      <td>5,000th</td>\n",
       "      <td>B+</td>\n",
       "      <td>SehatAQUA</td>\n",
       "      <td>254</td>\n",
       "      <td>21172</td>\n",
       "      <td>73312511</td>\n",
       "    </tr>\n",
       "  </tbody>\n",
       "</table>\n",
       "<p>5000 rows × 6 columns</p>\n",
       "</div>"
      ],
      "text/plain": [
       "         Rank Grade                Channel name Video Uploads Subscribers  \\\n",
       "0         1st  A++                       Zee TV         82757    18752951   \n",
       "1         2nd  A++                     T-Series         12661    61196302   \n",
       "2         3rd  A++   Cocomelon - Nursery Rhymes           373    19238251   \n",
       "3         4th  A++                    SET India         27323    31180559   \n",
       "4         5th  A++                          WWE         36756    32852346   \n",
       "...       ...   ...                         ...           ...         ...   \n",
       "4995  4,996th   B+               Uras Benlioğlu           706     2072942   \n",
       "4996  4,997th   B+            HI-TECH MUSIC LTD           797     1055091   \n",
       "4997  4,998th   B+                  Mastersaint           110     3265735   \n",
       "4998  4,999th   B+               Bruce McIntosh          3475       32990   \n",
       "4999  5,000th   B+                    SehatAQUA           254       21172   \n",
       "\n",
       "      Video views  \n",
       "0     20869786591  \n",
       "1     47548839843  \n",
       "2      9793305082  \n",
       "3     22675948293  \n",
       "4     26273668433  \n",
       "...           ...  \n",
       "4995    441202795  \n",
       "4996    377331722  \n",
       "4997    311758426  \n",
       "4998     14563764  \n",
       "4999     73312511  \n",
       "\n",
       "[5000 rows x 6 columns]"
      ]
     },
     "execution_count": 5,
     "metadata": {},
     "output_type": "execute_result"
    }
   ],
   "source": [
    "ytube"
   ]
  },
  {
   "cell_type": "code",
   "execution_count": 9,
   "id": "751149a5",
   "metadata": {},
   "outputs": [
    {
     "data": {
      "text/plain": [
       "(5000, 6)"
      ]
     },
     "execution_count": 9,
     "metadata": {},
     "output_type": "execute_result"
    }
   ],
   "source": [
    "ytube.shape"
   ]
  },
  {
   "cell_type": "code",
   "execution_count": 10,
   "id": "83f41f0f",
   "metadata": {},
   "outputs": [],
   "source": [
    "ytube['Rank'] = ytube['Rank'].str[0:-2].str.replace(',','').astype('int')"
   ]
  },
  {
   "cell_type": "code",
   "execution_count": 16,
   "id": "327945b7",
   "metadata": {},
   "outputs": [],
   "source": [
    "#ytube['Subscribers'].astype('int')\n",
    "mask1 = ytube[ytube['Subscribers'].str.contains('-')].index\n",
    "ytube.drop(labels=mask1, axis=0, inplace=True)"
   ]
  },
  {
   "cell_type": "code",
   "execution_count": 18,
   "id": "817f1d15",
   "metadata": {},
   "outputs": [],
   "source": [
    "ytube['Subscribers']= ytube['Subscribers'].astype('int')"
   ]
  },
  {
   "cell_type": "code",
   "execution_count": 19,
   "id": "290c5f11",
   "metadata": {},
   "outputs": [
    {
     "data": {
      "text/plain": [
       "0       18752951\n",
       "1       61196302\n",
       "2       19238251\n",
       "3       31180559\n",
       "4       32852346\n",
       "          ...   \n",
       "4995     2072942\n",
       "4996     1055091\n",
       "4997     3265735\n",
       "4998       32990\n",
       "4999       21172\n",
       "Name: Subscribers, Length: 4613, dtype: int32"
      ]
     },
     "execution_count": 19,
     "metadata": {},
     "output_type": "execute_result"
    }
   ],
   "source": [
    "ytube['Subscribers']"
   ]
  },
  {
   "cell_type": "code",
   "execution_count": 20,
   "id": "36321dad",
   "metadata": {},
   "outputs": [
    {
     "name": "stdout",
     "output_type": "stream",
     "text": [
      "<class 'pandas.core.frame.DataFrame'>\n",
      "Index: 4613 entries, 0 to 4999\n",
      "Data columns (total 6 columns):\n",
      " #   Column         Non-Null Count  Dtype \n",
      "---  ------         --------------  ----- \n",
      " 0   Rank           4613 non-null   int32 \n",
      " 1   Grade          4613 non-null   object\n",
      " 2   Channel name   4613 non-null   object\n",
      " 3   Video Uploads  4613 non-null   object\n",
      " 4   Subscribers    4613 non-null   int32 \n",
      " 5   Video views    4613 non-null   int64 \n",
      "dtypes: int32(2), int64(1), object(3)\n",
      "memory usage: 216.2+ KB\n"
     ]
    }
   ],
   "source": [
    "ytube.info()"
   ]
  },
  {
   "cell_type": "code",
   "execution_count": 21,
   "id": "7f77c64f",
   "metadata": {},
   "outputs": [
    {
     "data": {
      "text/html": [
       "<div>\n",
       "<style scoped>\n",
       "    .dataframe tbody tr th:only-of-type {\n",
       "        vertical-align: middle;\n",
       "    }\n",
       "\n",
       "    .dataframe tbody tr th {\n",
       "        vertical-align: top;\n",
       "    }\n",
       "\n",
       "    .dataframe thead th {\n",
       "        text-align: right;\n",
       "    }\n",
       "</style>\n",
       "<table border=\"1\" class=\"dataframe\">\n",
       "  <thead>\n",
       "    <tr style=\"text-align: right;\">\n",
       "      <th></th>\n",
       "      <th>Rank</th>\n",
       "      <th>Grade</th>\n",
       "      <th>Channel name</th>\n",
       "      <th>Video Uploads</th>\n",
       "      <th>Subscribers</th>\n",
       "      <th>Video views</th>\n",
       "    </tr>\n",
       "  </thead>\n",
       "  <tbody>\n",
       "  </tbody>\n",
       "</table>\n",
       "</div>"
      ],
      "text/plain": [
       "Empty DataFrame\n",
       "Columns: [Rank, Grade, Channel name, Video Uploads, Subscribers, Video views]\n",
       "Index: []"
      ]
     },
     "execution_count": 21,
     "metadata": {},
     "output_type": "execute_result"
    }
   ],
   "source": [
    "ytube[ytube['Channel name'] == '']"
   ]
  },
  {
   "cell_type": "code",
   "execution_count": 17,
   "id": "1890929f",
   "metadata": {},
   "outputs": [
    {
     "data": {
      "text/html": [
       "<div>\n",
       "<style scoped>\n",
       "    .dataframe tbody tr th:only-of-type {\n",
       "        vertical-align: middle;\n",
       "    }\n",
       "\n",
       "    .dataframe tbody tr th {\n",
       "        vertical-align: top;\n",
       "    }\n",
       "\n",
       "    .dataframe thead th {\n",
       "        text-align: right;\n",
       "    }\n",
       "</style>\n",
       "<table border=\"1\" class=\"dataframe\">\n",
       "  <thead>\n",
       "    <tr style=\"text-align: right;\">\n",
       "      <th></th>\n",
       "      <th>Rank</th>\n",
       "      <th>Grade</th>\n",
       "      <th>Channel name</th>\n",
       "      <th>Video Uploads</th>\n",
       "      <th>Subscribers</th>\n",
       "      <th>Video views</th>\n",
       "    </tr>\n",
       "  </thead>\n",
       "  <tbody>\n",
       "    <tr>\n",
       "      <th>0</th>\n",
       "      <td>1</td>\n",
       "      <td>A++</td>\n",
       "      <td>Zee TV</td>\n",
       "      <td>82757</td>\n",
       "      <td>18752951</td>\n",
       "      <td>20869786591</td>\n",
       "    </tr>\n",
       "    <tr>\n",
       "      <th>1</th>\n",
       "      <td>2</td>\n",
       "      <td>A++</td>\n",
       "      <td>T-Series</td>\n",
       "      <td>12661</td>\n",
       "      <td>61196302</td>\n",
       "      <td>47548839843</td>\n",
       "    </tr>\n",
       "    <tr>\n",
       "      <th>2</th>\n",
       "      <td>3</td>\n",
       "      <td>A++</td>\n",
       "      <td>Cocomelon - Nursery Rhymes</td>\n",
       "      <td>373</td>\n",
       "      <td>19238251</td>\n",
       "      <td>9793305082</td>\n",
       "    </tr>\n",
       "    <tr>\n",
       "      <th>3</th>\n",
       "      <td>4</td>\n",
       "      <td>A++</td>\n",
       "      <td>SET India</td>\n",
       "      <td>27323</td>\n",
       "      <td>31180559</td>\n",
       "      <td>22675948293</td>\n",
       "    </tr>\n",
       "    <tr>\n",
       "      <th>4</th>\n",
       "      <td>5</td>\n",
       "      <td>A++</td>\n",
       "      <td>WWE</td>\n",
       "      <td>36756</td>\n",
       "      <td>32852346</td>\n",
       "      <td>26273668433</td>\n",
       "    </tr>\n",
       "    <tr>\n",
       "      <th>...</th>\n",
       "      <td>...</td>\n",
       "      <td>...</td>\n",
       "      <td>...</td>\n",
       "      <td>...</td>\n",
       "      <td>...</td>\n",
       "      <td>...</td>\n",
       "    </tr>\n",
       "    <tr>\n",
       "      <th>4995</th>\n",
       "      <td>4996</td>\n",
       "      <td>B+</td>\n",
       "      <td>Uras Benlioğlu</td>\n",
       "      <td>706</td>\n",
       "      <td>2072942</td>\n",
       "      <td>441202795</td>\n",
       "    </tr>\n",
       "    <tr>\n",
       "      <th>4996</th>\n",
       "      <td>4997</td>\n",
       "      <td>B+</td>\n",
       "      <td>HI-TECH MUSIC LTD</td>\n",
       "      <td>797</td>\n",
       "      <td>1055091</td>\n",
       "      <td>377331722</td>\n",
       "    </tr>\n",
       "    <tr>\n",
       "      <th>4997</th>\n",
       "      <td>4998</td>\n",
       "      <td>B+</td>\n",
       "      <td>Mastersaint</td>\n",
       "      <td>110</td>\n",
       "      <td>3265735</td>\n",
       "      <td>311758426</td>\n",
       "    </tr>\n",
       "    <tr>\n",
       "      <th>4998</th>\n",
       "      <td>4999</td>\n",
       "      <td>B+</td>\n",
       "      <td>Bruce McIntosh</td>\n",
       "      <td>3475</td>\n",
       "      <td>32990</td>\n",
       "      <td>14563764</td>\n",
       "    </tr>\n",
       "    <tr>\n",
       "      <th>4999</th>\n",
       "      <td>5000</td>\n",
       "      <td>B+</td>\n",
       "      <td>SehatAQUA</td>\n",
       "      <td>254</td>\n",
       "      <td>21172</td>\n",
       "      <td>73312511</td>\n",
       "    </tr>\n",
       "  </tbody>\n",
       "</table>\n",
       "<p>4613 rows × 6 columns</p>\n",
       "</div>"
      ],
      "text/plain": [
       "      Rank Grade                Channel name Video Uploads Subscribers  \\\n",
       "0        1  A++                       Zee TV         82757    18752951   \n",
       "1        2  A++                     T-Series         12661    61196302   \n",
       "2        3  A++   Cocomelon - Nursery Rhymes           373    19238251   \n",
       "3        4  A++                    SET India         27323    31180559   \n",
       "4        5  A++                          WWE         36756    32852346   \n",
       "...    ...   ...                         ...           ...         ...   \n",
       "4995  4996   B+               Uras Benlioğlu           706     2072942   \n",
       "4996  4997   B+            HI-TECH MUSIC LTD           797     1055091   \n",
       "4997  4998   B+                  Mastersaint           110     3265735   \n",
       "4998  4999   B+               Bruce McIntosh          3475       32990   \n",
       "4999  5000   B+                    SehatAQUA           254       21172   \n",
       "\n",
       "      Video views  \n",
       "0     20869786591  \n",
       "1     47548839843  \n",
       "2      9793305082  \n",
       "3     22675948293  \n",
       "4     26273668433  \n",
       "...           ...  \n",
       "4995    441202795  \n",
       "4996    377331722  \n",
       "4997    311758426  \n",
       "4998     14563764  \n",
       "4999     73312511  \n",
       "\n",
       "[4613 rows x 6 columns]"
      ]
     },
     "execution_count": 17,
     "metadata": {},
     "output_type": "execute_result"
    }
   ],
   "source": [
    "ytube"
   ]
  },
  {
   "cell_type": "code",
   "execution_count": 12,
   "id": "5313122d",
   "metadata": {},
   "outputs": [
    {
     "data": {
      "text/plain": [
       "Rank              int32\n",
       "Grade            object\n",
       "Channel name     object\n",
       "Video Uploads    object\n",
       "Subscribers      object\n",
       "Video views       int64\n",
       "dtype: object"
      ]
     },
     "execution_count": 12,
     "metadata": {},
     "output_type": "execute_result"
    }
   ],
   "source": [
    "ytube.dtypes"
   ]
  },
  {
   "cell_type": "code",
   "execution_count": 13,
   "id": "37de62a9",
   "metadata": {},
   "outputs": [
    {
     "data": {
      "text/plain": [
       "Rank                       4996\n",
       "Grade                       B+ \n",
       "Channel name     Uras Benlioğlu\n",
       "Video Uploads               706\n",
       "Subscribers             2072942\n",
       "Video views           441202795\n",
       "Name: 4995, dtype: object"
      ]
     },
     "execution_count": 13,
     "metadata": {},
     "output_type": "execute_result"
    }
   ],
   "source": [
    "ytube.iloc[4995]"
   ]
  },
  {
   "cell_type": "code",
   "execution_count": 74,
   "id": "b31bb0ec",
   "metadata": {},
   "outputs": [
    {
     "data": {
      "text/html": [
       "<div>\n",
       "<style scoped>\n",
       "    .dataframe tbody tr th:only-of-type {\n",
       "        vertical-align: middle;\n",
       "    }\n",
       "\n",
       "    .dataframe tbody tr th {\n",
       "        vertical-align: top;\n",
       "    }\n",
       "\n",
       "    .dataframe thead th {\n",
       "        text-align: right;\n",
       "    }\n",
       "</style>\n",
       "<table border=\"1\" class=\"dataframe\">\n",
       "  <thead>\n",
       "    <tr style=\"text-align: right;\">\n",
       "      <th></th>\n",
       "      <th>Rank</th>\n",
       "      <th>Grade</th>\n",
       "      <th>Channel name</th>\n",
       "      <th>Video Uploads</th>\n",
       "      <th>Subscribers</th>\n",
       "      <th>Video views</th>\n",
       "    </tr>\n",
       "  </thead>\n",
       "  <tbody>\n",
       "    <tr>\n",
       "      <th>8</th>\n",
       "      <td>9th</td>\n",
       "      <td>A++</td>\n",
       "      <td>Ryan ToysReview</td>\n",
       "      <td>1140</td>\n",
       "      <td>16082927</td>\n",
       "      <td>24518098041</td>\n",
       "    </tr>\n",
       "    <tr>\n",
       "      <th>98</th>\n",
       "      <td>99th</td>\n",
       "      <td>A</td>\n",
       "      <td>BeckyGVEVO</td>\n",
       "      <td>53</td>\n",
       "      <td>6658776</td>\n",
       "      <td>3518844458</td>\n",
       "    </tr>\n",
       "    <tr>\n",
       "      <th>998</th>\n",
       "      <td>999th</td>\n",
       "      <td>A</td>\n",
       "      <td>Earwax Specialist</td>\n",
       "      <td>572</td>\n",
       "      <td>387654</td>\n",
       "      <td>301082491</td>\n",
       "    </tr>\n",
       "    <tr>\n",
       "      <th>997</th>\n",
       "      <td>998th</td>\n",
       "      <td>A</td>\n",
       "      <td>Les' Copaque Production</td>\n",
       "      <td>1078</td>\n",
       "      <td>3130717</td>\n",
       "      <td>2040030829</td>\n",
       "    </tr>\n",
       "    <tr>\n",
       "      <th>996</th>\n",
       "      <td>997th</td>\n",
       "      <td>A</td>\n",
       "      <td>TOY GUMA</td>\n",
       "      <td>303</td>\n",
       "      <td>1783483</td>\n",
       "      <td>628952933</td>\n",
       "    </tr>\n",
       "  </tbody>\n",
       "</table>\n",
       "</div>"
      ],
      "text/plain": [
       "      Rank Grade             Channel name Video Uploads Subscribers  \\\n",
       "8      9th  A++           Ryan ToysReview          1140    16082927   \n",
       "98    99th    A                BeckyGVEVO            53     6658776   \n",
       "998  999th    A         Earwax Specialist           572      387654   \n",
       "997  998th    A   Les' Copaque Production          1078     3130717   \n",
       "996  997th    A                  TOY GUMA           303     1783483   \n",
       "\n",
       "     Video views  \n",
       "8    24518098041  \n",
       "98    3518844458  \n",
       "998    301082491  \n",
       "997   2040030829  \n",
       "996    628952933  "
      ]
     },
     "execution_count": 74,
     "metadata": {},
     "output_type": "execute_result"
    }
   ],
   "source": [
    "df.sort_values(by = \"Rank\", ascending = False).head()"
   ]
  },
  {
   "cell_type": "code",
   "execution_count": 25,
   "id": "c4660a68",
   "metadata": {},
   "outputs": [
    {
     "data": {
      "text/html": [
       "<div>\n",
       "<style scoped>\n",
       "    .dataframe tbody tr th:only-of-type {\n",
       "        vertical-align: middle;\n",
       "    }\n",
       "\n",
       "    .dataframe tbody tr th {\n",
       "        vertical-align: top;\n",
       "    }\n",
       "\n",
       "    .dataframe thead th {\n",
       "        text-align: right;\n",
       "    }\n",
       "</style>\n",
       "<table border=\"1\" class=\"dataframe\">\n",
       "  <thead>\n",
       "    <tr style=\"text-align: right;\">\n",
       "      <th></th>\n",
       "      <th>Rank</th>\n",
       "      <th>Grade</th>\n",
       "      <th>Video Uploads</th>\n",
       "      <th>Subscribers</th>\n",
       "      <th>Video views</th>\n",
       "    </tr>\n",
       "    <tr>\n",
       "      <th>Channel name</th>\n",
       "      <th></th>\n",
       "      <th></th>\n",
       "      <th></th>\n",
       "      <th></th>\n",
       "      <th></th>\n",
       "    </tr>\n",
       "  </thead>\n",
       "  <tbody>\n",
       "    <tr>\n",
       "      <th>102 TUBE</th>\n",
       "      <td>2,295th</td>\n",
       "      <td>B+</td>\n",
       "      <td>352</td>\n",
       "      <td>--</td>\n",
       "      <td>206198480</td>\n",
       "    </tr>\n",
       "    <tr>\n",
       "      <th>24h Tin tức</th>\n",
       "      <td>3,110th</td>\n",
       "      <td>B+</td>\n",
       "      <td>8733</td>\n",
       "      <td>--</td>\n",
       "      <td>138731242</td>\n",
       "    </tr>\n",
       "    <tr>\n",
       "      <th>3T Nerf War</th>\n",
       "      <td>2,105th</td>\n",
       "      <td>B+</td>\n",
       "      <td>221</td>\n",
       "      <td>--</td>\n",
       "      <td>164766145</td>\n",
       "    </tr>\n",
       "    <tr>\n",
       "      <th>4G Entertainment</th>\n",
       "      <td>1,340th</td>\n",
       "      <td>A-</td>\n",
       "      <td>2730</td>\n",
       "      <td>--</td>\n",
       "      <td>179243201</td>\n",
       "    </tr>\n",
       "    <tr>\n",
       "      <th>92 News HD</th>\n",
       "      <td>4,631st</td>\n",
       "      <td>B+</td>\n",
       "      <td>30811</td>\n",
       "      <td>--</td>\n",
       "      <td>134021190</td>\n",
       "    </tr>\n",
       "  </tbody>\n",
       "</table>\n",
       "</div>"
      ],
      "text/plain": [
       "                     Rank Grade Video Uploads Subscribers  Video views\n",
       "Channel name                                                          \n",
       "102 TUBE          2,295th   B+            352         --     206198480\n",
       "24h Tin tức       3,110th   B+           8733         --     138731242\n",
       "3T Nerf War       2,105th   B+            221         --     164766145\n",
       "4G Entertainment  1,340th   A-           2730         --     179243201\n",
       "92 News HD        4,631st   B+          30811         --     134021190"
      ]
     },
     "execution_count": 25,
     "metadata": {},
     "output_type": "execute_result"
    }
   ],
   "source": [
    "df.sort_values(by = [\"Subscribers\", \"Channel name\"]).head()"
   ]
  },
  {
   "cell_type": "code",
   "execution_count": 26,
   "id": "a683c7dc",
   "metadata": {},
   "outputs": [
    {
     "data": {
      "text/html": [
       "<div>\n",
       "<style scoped>\n",
       "    .dataframe tbody tr th:only-of-type {\n",
       "        vertical-align: middle;\n",
       "    }\n",
       "\n",
       "    .dataframe tbody tr th {\n",
       "        vertical-align: top;\n",
       "    }\n",
       "\n",
       "    .dataframe thead th {\n",
       "        text-align: right;\n",
       "    }\n",
       "</style>\n",
       "<table border=\"1\" class=\"dataframe\">\n",
       "  <thead>\n",
       "    <tr style=\"text-align: right;\">\n",
       "      <th></th>\n",
       "      <th>Rank</th>\n",
       "      <th>Grade</th>\n",
       "      <th>Video Uploads</th>\n",
       "      <th>Subscribers</th>\n",
       "      <th>Video views</th>\n",
       "    </tr>\n",
       "    <tr>\n",
       "      <th>Channel name</th>\n",
       "      <th></th>\n",
       "      <th></th>\n",
       "      <th></th>\n",
       "      <th></th>\n",
       "      <th></th>\n",
       "    </tr>\n",
       "  </thead>\n",
       "  <tbody>\n",
       "    <tr>\n",
       "      <th>#Desenhos Kids BR</th>\n",
       "      <td>2,941st</td>\n",
       "      <td>B+</td>\n",
       "      <td>207</td>\n",
       "      <td>242635</td>\n",
       "      <td>84041146</td>\n",
       "    </tr>\n",
       "    <tr>\n",
       "      <th>#FIRST WINGS FILM PRODUCTION</th>\n",
       "      <td>4,129th</td>\n",
       "      <td>B+</td>\n",
       "      <td>22</td>\n",
       "      <td>69055</td>\n",
       "      <td>12678949</td>\n",
       "    </tr>\n",
       "    <tr>\n",
       "      <th>#Mentale Zuflucht</th>\n",
       "      <td>3,352nd</td>\n",
       "      <td>B+</td>\n",
       "      <td>354</td>\n",
       "      <td>780214</td>\n",
       "      <td>363411371</td>\n",
       "    </tr>\n",
       "    <tr>\n",
       "      <th>#Mind Warehouse</th>\n",
       "      <td>1,478th</td>\n",
       "      <td>A-</td>\n",
       "      <td>360</td>\n",
       "      <td>4644035</td>\n",
       "      <td>1337876967</td>\n",
       "    </tr>\n",
       "    <tr>\n",
       "      <th>#Refugio Mental</th>\n",
       "      <td>490th</td>\n",
       "      <td>A</td>\n",
       "      <td>312</td>\n",
       "      <td>5895361</td>\n",
       "      <td>1262196983</td>\n",
       "    </tr>\n",
       "  </tbody>\n",
       "</table>\n",
       "</div>"
      ],
      "text/plain": [
       "                                 Rank Grade Video Uploads Subscribers  \\\n",
       "Channel name                                                            \n",
       "#Desenhos Kids BR             2,941st   B+            207      242635   \n",
       "#FIRST WINGS FILM PRODUCTION  4,129th   B+             22       69055   \n",
       "#Mentale Zuflucht             3,352nd   B+            354      780214   \n",
       "#Mind Warehouse               1,478th   A-            360     4644035   \n",
       "#Refugio Mental                 490th    A            312     5895361   \n",
       "\n",
       "                              Video views  \n",
       "Channel name                               \n",
       "#Desenhos Kids BR                84041146  \n",
       "#FIRST WINGS FILM PRODUCTION     12678949  \n",
       "#Mentale Zuflucht               363411371  \n",
       "#Mind Warehouse                1337876967  \n",
       "#Refugio Mental                1262196983  "
      ]
     },
     "execution_count": 26,
     "metadata": {},
     "output_type": "execute_result"
    }
   ],
   "source": [
    " df.sort_index().head()# shorting by alpha"
   ]
  },
  {
   "cell_type": "markdown",
   "id": "effdf3ba",
   "metadata": {},
   "source": [
    "Counting values in a Series"
   ]
  },
  {
   "cell_type": "code",
   "execution_count": 28,
   "id": "356ecabb",
   "metadata": {},
   "outputs": [
    {
     "data": {
      "text/plain": [
       "Channel name\n",
       "Zee TV                        82757\n",
       "T-Series                      12661\n",
       "Cocomelon - Nursery Rhymes      373\n",
       "SET India                     27323\n",
       "WWE                           36756\n",
       "                              ...  \n",
       "Uras Benlioğlu                  706\n",
       "HI-TECH MUSIC LTD               797\n",
       "Mastersaint                     110\n",
       "Bruce McIntosh                 3475\n",
       "SehatAQUA                       254\n",
       "Name: Video Uploads, Length: 5000, dtype: object"
      ]
     },
     "execution_count": 28,
     "metadata": {},
     "output_type": "execute_result"
    }
   ],
   "source": [
    "df[\"Video Uploads\"] #We can extract a single column of data from a DataFrame as a Series. Notice\n",
    "#that pandas preserves the DataFrame’s index, the movie titles, in the Series"
   ]
  },
  {
   "cell_type": "code",
   "execution_count": 32,
   "id": "0bd19fd0",
   "metadata": {},
   "outputs": [
    {
     "data": {
      "text/plain": [
       "Video Uploads\n",
       "26    17\n",
       "20    17\n",
       "8     16\n",
       "84    16\n",
       "52    16\n",
       "30    15\n",
       "21    15\n",
       "27    14\n",
       "69    14\n",
       "36    14\n",
       "Name: count, dtype: int64"
      ]
     },
     "execution_count": 32,
     "metadata": {},
     "output_type": "execute_result"
    }
   ],
   "source": [
    "df[\"Video Uploads\"].value_counts().head(10) "
   ]
  },
  {
   "cell_type": "code",
   "execution_count": 33,
   "id": "5bddfc10",
   "metadata": {},
   "outputs": [],
   "source": [
    "channel_video_counts = df.groupby(\"Channel name\")[\"Video Uploads\"].count().reset_index(name='Video Upload Count')"
   ]
  },
  {
   "cell_type": "code",
   "execution_count": 34,
   "id": "aa6c1cc7",
   "metadata": {},
   "outputs": [
    {
     "data": {
      "text/html": [
       "<div>\n",
       "<style scoped>\n",
       "    .dataframe tbody tr th:only-of-type {\n",
       "        vertical-align: middle;\n",
       "    }\n",
       "\n",
       "    .dataframe tbody tr th {\n",
       "        vertical-align: top;\n",
       "    }\n",
       "\n",
       "    .dataframe thead th {\n",
       "        text-align: right;\n",
       "    }\n",
       "</style>\n",
       "<table border=\"1\" class=\"dataframe\">\n",
       "  <thead>\n",
       "    <tr style=\"text-align: right;\">\n",
       "      <th></th>\n",
       "      <th>Channel name</th>\n",
       "      <th>Video Upload Count</th>\n",
       "    </tr>\n",
       "  </thead>\n",
       "  <tbody>\n",
       "    <tr>\n",
       "      <th>0</th>\n",
       "      <td>#Desenhos Kids BR</td>\n",
       "      <td>1</td>\n",
       "    </tr>\n",
       "    <tr>\n",
       "      <th>1</th>\n",
       "      <td>#FIRST WINGS FILM PRODUCTION</td>\n",
       "      <td>1</td>\n",
       "    </tr>\n",
       "    <tr>\n",
       "      <th>2</th>\n",
       "      <td>#Mentale Zuflucht</td>\n",
       "      <td>1</td>\n",
       "    </tr>\n",
       "    <tr>\n",
       "      <th>3</th>\n",
       "      <td>#Mind Warehouse</td>\n",
       "      <td>1</td>\n",
       "    </tr>\n",
       "    <tr>\n",
       "      <th>4</th>\n",
       "      <td>#Refugio Mental</td>\n",
       "      <td>1</td>\n",
       "    </tr>\n",
       "    <tr>\n",
       "      <th>...</th>\n",
       "      <td>...</td>\n",
       "      <td>...</td>\n",
       "    </tr>\n",
       "    <tr>\n",
       "      <th>4988</th>\n",
       "      <td>핑크퐁 (인기 동요・동화)</td>\n",
       "      <td>1</td>\n",
       "    </tr>\n",
       "    <tr>\n",
       "      <th>4989</th>\n",
       "      <td>허팝Heopop</td>\n",
       "      <td>1</td>\n",
       "    </tr>\n",
       "    <tr>\n",
       "      <th>4990</th>\n",
       "      <td>헤이지니 Hey Jini</td>\n",
       "      <td>1</td>\n",
       "    </tr>\n",
       "    <tr>\n",
       "      <th>4991</th>\n",
       "      <td>헬로카봇 - hello carbot…</td>\n",
       "      <td>1</td>\n",
       "    </tr>\n",
       "    <tr>\n",
       "      <th>4992</th>\n",
       "      <td>흔한남매</td>\n",
       "      <td>1</td>\n",
       "    </tr>\n",
       "  </tbody>\n",
       "</table>\n",
       "<p>4993 rows × 2 columns</p>\n",
       "</div>"
      ],
      "text/plain": [
       "                      Channel name  Video Upload Count\n",
       "0                #Desenhos Kids BR                   1\n",
       "1     #FIRST WINGS FILM PRODUCTION                   1\n",
       "2                #Mentale Zuflucht                   1\n",
       "3                  #Mind Warehouse                   1\n",
       "4                  #Refugio Mental                   1\n",
       "...                            ...                 ...\n",
       "4988                핑크퐁 (인기 동요・동화)                   1\n",
       "4989                      허팝Heopop                   1\n",
       "4990                 헤이지니 Hey Jini                   1\n",
       "4991          헬로카봇 - hello carbot…                   1\n",
       "4992                          흔한남매                   1\n",
       "\n",
       "[4993 rows x 2 columns]"
      ]
     },
     "execution_count": 34,
     "metadata": {},
     "output_type": "execute_result"
    }
   ],
   "source": [
    "channel_video_counts"
   ]
  },
  {
   "cell_type": "markdown",
   "id": "e022d6be",
   "metadata": {},
   "source": [
    "Filtering a column by one or more criteria"
   ]
  },
  {
   "cell_type": "code",
   "execution_count": 65,
   "id": "ced804db",
   "metadata": {},
   "outputs": [
    {
     "name": "stdout",
     "output_type": "stream",
     "text": [
      "Index(['Rank', 'Grade', 'Video Uploads', 'Subscribers', 'Video views'], dtype='object')\n"
     ]
    }
   ],
   "source": [
    "print(df.columns)"
   ]
  },
  {
   "cell_type": "code",
   "execution_count": 11,
   "id": "ab9f046d",
   "metadata": {},
   "outputs": [],
   "source": [
    "filtered_df = ytube[ytube.iloc[:, 2] == 'Uras Benlioğlu']# filtering the data for number of subscriber for perticular channel"
   ]
  },
  {
   "cell_type": "code",
   "execution_count": 12,
   "id": "5a79bcee",
   "metadata": {},
   "outputs": [
    {
     "data": {
      "text/html": [
       "<div>\n",
       "<style scoped>\n",
       "    .dataframe tbody tr th:only-of-type {\n",
       "        vertical-align: middle;\n",
       "    }\n",
       "\n",
       "    .dataframe tbody tr th {\n",
       "        vertical-align: top;\n",
       "    }\n",
       "\n",
       "    .dataframe thead th {\n",
       "        text-align: right;\n",
       "    }\n",
       "</style>\n",
       "<table border=\"1\" class=\"dataframe\">\n",
       "  <thead>\n",
       "    <tr style=\"text-align: right;\">\n",
       "      <th></th>\n",
       "      <th>Rank</th>\n",
       "      <th>Grade</th>\n",
       "      <th>Channel name</th>\n",
       "      <th>Video Uploads</th>\n",
       "      <th>Subscribers</th>\n",
       "      <th>Video views</th>\n",
       "    </tr>\n",
       "  </thead>\n",
       "  <tbody>\n",
       "    <tr>\n",
       "      <th>4995</th>\n",
       "      <td>4,996th</td>\n",
       "      <td>B+</td>\n",
       "      <td>Uras Benlioğlu</td>\n",
       "      <td>706</td>\n",
       "      <td>2072942</td>\n",
       "      <td>441202795</td>\n",
       "    </tr>\n",
       "  </tbody>\n",
       "</table>\n",
       "</div>"
      ],
      "text/plain": [
       "         Rank Grade    Channel name Video Uploads Subscribers  Video views\n",
       "4995  4,996th   B+   Uras Benlioğlu           706     2072942    441202795"
      ]
     },
     "execution_count": 12,
     "metadata": {},
     "output_type": "execute_result"
    }
   ],
   "source": [
    "filtered_df"
   ]
  },
  {
   "cell_type": "markdown",
   "id": "0f822e76",
   "metadata": {},
   "source": [
    "GRouping"
   ]
  },
  {
   "cell_type": "code",
   "execution_count": 19,
   "id": "879c1273",
   "metadata": {},
   "outputs": [],
   "source": [
    "non_numeric_values = ytube['Video Uploads'].loc[~ytube['Video Uploads'].astype(str).str.isnumeric()]"
   ]
  },
  {
   "cell_type": "code",
   "execution_count": 20,
   "id": "485d9e10",
   "metadata": {},
   "outputs": [
    {
     "data": {
      "text/plain": [
       "267     --\n",
       "517     --\n",
       "2323    --\n",
       "3072    --\n",
       "3247    --\n",
       "4898    --\n",
       "Name: Video Uploads, dtype: object"
      ]
     },
     "execution_count": 20,
     "metadata": {},
     "output_type": "execute_result"
    }
   ],
   "source": [
    "non_numeric_values"
   ]
  },
  {
   "cell_type": "code",
   "execution_count": 25,
   "id": "b88bf7d7",
   "metadata": {},
   "outputs": [],
   "source": [
    "ytube['Subscribers'] = pd.to_numeric(ytube['Subscribers'], errors='coerce')# Convert 'Subscribers' to numeric, coerce non-numeric values to NaN"
   ]
  },
  {
   "cell_type": "code",
   "execution_count": 26,
   "id": "cff1a496",
   "metadata": {},
   "outputs": [],
   "source": [
    "df1 = ytube.dropna(subset=['Subscribers'])# Drop rows with NaN values in 'Subscribers' (optional, if needed)"
   ]
  },
  {
   "cell_type": "code",
   "execution_count": 27,
   "id": "3f93ea43",
   "metadata": {},
   "outputs": [],
   "source": [
    "sorted_df1 = df1.sort_values(by='Subscribers', ascending=True)## Sort the DataFrame by 'Subscribers' in ascending order"
   ]
  },
  {
   "cell_type": "code",
   "execution_count": 29,
   "id": "859d3c6b",
   "metadata": {},
   "outputs": [],
   "source": [
    "result_df = sorted_df1[['Channel name', 'Subscribers']]## Display the sorted DataFrame with 'Channel name' and 'Subscribers'\n",
    "\n"
   ]
  },
  {
   "cell_type": "code",
   "execution_count": 30,
   "id": "51424250",
   "metadata": {},
   "outputs": [
    {
     "name": "stdout",
     "output_type": "stream",
     "text": [
      "                 Channel name  Subscribers\n",
      "4096            Xiaomi France        301.0\n",
      "92              hairong zheng        394.0\n",
      "3516              Jianpeng Li        437.0\n",
      "3160      Ron Funches - Topic        453.0\n",
      "2287  Christian Nodal - Topic        471.0\n",
      "...                       ...          ...\n",
      "3222           HolaSoyGerman.   34480357.0\n",
      "174              Dude Perfect   34489432.0\n",
      "11            Canal KondZilla   39409726.0\n",
      "1                    T-Series   61196302.0\n",
      "1470                PewDiePie   65995310.0\n",
      "\n",
      "[4613 rows x 2 columns]\n"
     ]
    }
   ],
   "source": [
    "print(result_df )"
   ]
  },
  {
   "cell_type": "code",
   "execution_count": null,
   "id": "6fc41871",
   "metadata": {},
   "outputs": [],
   "source": []
  }
 ],
 "metadata": {
  "kernelspec": {
   "display_name": "Python 3",
   "language": "python",
   "name": "python3"
  },
  "language_info": {
   "codemirror_mode": {
    "name": "ipython",
    "version": 3
   },
   "file_extension": ".py",
   "mimetype": "text/x-python",
   "name": "python",
   "nbconvert_exporter": "python",
   "pygments_lexer": "ipython3",
   "version": "3.8.8"
  }
 },
 "nbformat": 4,
 "nbformat_minor": 5
}
